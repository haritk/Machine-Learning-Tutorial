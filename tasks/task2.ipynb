{
 "cells": [
  {
   "cell_type": "code",
   "execution_count": 72,
   "metadata": {},
   "outputs": [],
   "source": [
    "import numpy as np\n",
    "import matplotlib.pyplot as plt\n",
    "import time"
   ]
  },
  {
   "cell_type": "code",
   "execution_count": 73,
   "metadata": {},
   "outputs": [
    {
     "name": "stdout",
     "output_type": "stream",
     "text": [
      "[ 0.91677692  0.44657457  0.13450422  0.0764366   0.88151504  0.35007186\n",
      "  0.18111057  0.99745591  0.74276472  0.2380152 ]\n"
     ]
    }
   ],
   "source": [
    "x= np.random.random(10)\n",
    "arrx=np.array(x)\n",
    "print(arrx)"
   ]
  },
  {
   "cell_type": "code",
   "execution_count": 74,
   "metadata": {},
   "outputs": [
    {
     "name": "stdout",
     "output_type": "stream",
     "text": [
      "[ 0.11762805  0.22201936  0.06752676  0.31352549  0.00570545  0.48401802\n",
      "  0.76748724  0.94616257  0.56177782  0.16047701]\n"
     ]
    }
   ],
   "source": [
    "y= np.random.random(10)\n",
    "arry=np.array(y)\n",
    "print(arry)"
   ]
  },
  {
   "cell_type": "code",
   "execution_count": 75,
   "metadata": {},
   "outputs": [
    {
     "name": "stdout",
     "output_type": "stream",
     "text": [
      "Time is 0.00013499999999999623 and Dot Product is 1.95272506699\n"
     ]
    }
   ],
   "source": [
    "start_time = time.clock()\n",
    "dotxy=np.dot(x,y)\n",
    "end_time = time.clock()\n",
    "print(\"Time is \" + str(end_time-start_time) + \" and Dot Product is \" + str(dotxy))"
   ]
  },
  {
   "cell_type": "code",
   "execution_count": 76,
   "metadata": {},
   "outputs": [
    {
     "name": "stdout",
     "output_type": "stream",
     "text": [
      "Time is 0.00021300000000001873 and Dot Product is 1.95272506699\n"
     ]
    }
   ],
   "source": [
    "dot=0\n",
    "n=10\n",
    "start_time = time.clock()\n",
    "for i in range(n):\n",
    "    dot+=x[i]*y[i]\n",
    "end_time = time.clock()\n",
    "print(\"Time is \" + str(end_time-start_time) + \" and Dot Product is \" + str(dot))"
   ]
  },
  {
   "cell_type": "code",
   "execution_count": 77,
   "metadata": {},
   "outputs": [],
   "source": [
    "# So, Numpy takes less time that loop method\n"
   ]
  },
  {
   "cell_type": "code",
   "execution_count": null,
   "metadata": {},
   "outputs": [],
   "source": []
  }
 ],
 "metadata": {
  "kernelspec": {
   "display_name": "Python 3",
   "language": "python",
   "name": "python3"
  },
  "language_info": {
   "codemirror_mode": {
    "name": "ipython",
    "version": 3
   },
   "file_extension": ".py",
   "mimetype": "text/x-python",
   "name": "python",
   "nbconvert_exporter": "python",
   "pygments_lexer": "ipython3",
   "version": "3.6.5"
  }
 },
 "nbformat": 4,
 "nbformat_minor": 2
}
